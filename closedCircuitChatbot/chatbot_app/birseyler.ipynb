{
 "cells": [
  {
   "cell_type": "markdown",
   "metadata": {},
   "source": [
    "LangChainDeprecationWarning: Importing GuardrailsOutputParser from langchain.output_parsers is deprecated. Please replace the import with the following:\n",
    "from langchain_community.output_parsers.rail_parser import GuardrailsOutputParser\n",
    "  warnings.warn(\n",
    "/home/ktu/anaconda3/envs/llama_env/lib/python3.11/site-packages/langchain/document_loaders/__init__.py:36: LangChainDeprecationWarning: Importing document loaders from langchain is deprecated. Importing from langchain will no longer be supported as of langchain==0.2.0. Please import from langchain-community instead:\n",
    "\n",
    "`from langchain_community.document_loaders import DirectoryLoader`.\n",
    "\n",
    "To install langchain-community run `pip install -U langchain-community`.\n",
    "  warnings.warn(\n",
    "/home/ktu/anaconda3/envs/llama_env/lib/python3.11/site-packages/langchain/document_loaders/__init__.py:36: LangChainDeprecationWarning: Importing document loaders from langchain is deprecated. Importing from langchain will no longer be supported as of langchain==0.2.0. Please import from langchain-community instead:\n",
    "\n",
    "`from langchain_community.document_loaders import TextLoader`.\n",
    "\n",
    "To install langchain-community run `pip install -U langchain-community`.\n",
    "  warnings.warn(\n",
    "/home/ktu/anaconda3/envs/llama_env/lib/python3.11/site-packages/langchain/vectorstores/__init__.py:35: LangChainDeprecationWarning: Importing vector stores from langchain is deprecated. Importing from langchain will no longer be supported as of langchain==0.2.0. Please import from langchain-community instead:\n",
    "\n",
    "`from langchain_community.vectorstores import Qdrant`.\n",
    "\n",
    "To install langchain-community run `pip install -U langchain-community`.\n",
    "  warnings.warn(\n",
    "/home/ktu/anaconda3/envs/llama_env/lib/python3.11/site-packages/langchain/llms/__init__.py:548: LangChainDeprecationWarning: Importing LLMs from langchain is deprecated. Importing from langchain will no longer be supported as of langchain==0.2.0. Please import from langchain-community instead:\n",
    "\n",
    "`from langchain_community.llms import HuggingFacePipeline`.\n",
    "\n",
    "To install langchain-community run `pip install -U langchain-community`.\n",
    "  warnings.warn(\n",
    "/home/ktu/anaconda3/envs/llama_env/lib/python3.11/site-packages/langchain/embeddings/__init__.py:29: LangChainDeprecationWarning: Importing embeddings from langchain is deprecated. Importing from langchain will no longer be supported as of langchain==0.2.0. Please import from langchain-community instead:\n",
    "\n",
    "`from langchain_community.embeddings import HuggingFaceEmbeddings`.\n",
    "\n",
    "To install langchain-community run `pip install -U langchain-community`.\n"
   ]
  },
  {
   "cell_type": "markdown",
   "metadata": {},
   "source": [
    "mongodb açılması için terminale mongosh komutu yazıp çalıştırıyoruz."
   ]
  },
  {
   "cell_type": "markdown",
   "metadata": {},
   "source": [
    "* Docker çalıştırılması için kod satırı\n",
    "/Masaüstü/Closed-Circuit-Chatbot$  uzantıda çalıştırılması gerekiyor\n",
    "docker run -p 6333:6333 -v .:/qdrant/storage qdrant/qdrant"
   ]
  },
  {
   "cell_type": "markdown",
   "metadata": {},
   "source": [
    "sudo apt-get install gnupg curl\n",
    "\n",
    "curl -fsSL https://www.mongodb.org/static/pgp/server-7.0.asc | \\\n",
    "   sudo gpg -o /usr/share/keyrings/mongodb-server-7.0.gpg \\\n",
    "   --dearmor\n",
    "   \n",
    "   \n",
    "echo \"deb [ arch=amd64,arm64 signed-by=/usr/share/keyrings/mongodb-server-7.0.gpg ] https://repo.mongodb.org/apt/ubuntu jammy/mongodb-org/7.0 multiverse\" | sudo tee /etc/apt/sources.list.d/mongodb-org-7.0.list\n",
    "\n",
    "\n",
    "sudo apt-get update\n",
    "\n",
    "sudo apt-get install -y mongodb-org\n",
    "\n",
    "mongodb server başlatmak için sırayla\n",
    "\n",
    "sudo systemctl start mongod\n",
    "\n",
    "sudo systemctl daemon-reload\n",
    "\n",
    "sudo systemctl status mongod\n",
    "\n",
    "\n",
    "mongosh for shell\n"
   ]
  },
  {
   "cell_type": "markdown",
   "metadata": {},
   "source": [
    "proje başlangıcı için\n",
    "* docker başlatılır\n",
    "* mongodb başlatılır\n",
    "* proje dizininde manage.py ın olduğu yere gelinir terminalde python manage.py runserver ile django başlatılır\n"
   ]
  }
 ],
 "metadata": {
  "language_info": {
   "name": "python"
  }
 },
 "nbformat": 4,
 "nbformat_minor": 2
}
